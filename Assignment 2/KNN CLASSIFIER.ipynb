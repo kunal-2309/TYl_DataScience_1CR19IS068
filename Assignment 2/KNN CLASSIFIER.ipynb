{
 "cells": [
  {
   "cell_type": "markdown",
   "id": "c837af82",
   "metadata": {},
   "source": [
    "## importing libraries"
   ]
  },
  {
   "cell_type": "code",
   "execution_count": 2,
   "id": "6601b97d",
   "metadata": {},
   "outputs": [],
   "source": [
    "from tensorflow import keras\n",
    "import matplotlib.pyplot as plt\n",
    "from sklearn.metrics import accuracy_score,confusion_matrix,classification_report\n",
    "import numpy as np"
   ]
  },
  {
   "cell_type": "markdown",
   "id": "e49319c2",
   "metadata": {},
   "source": [
    "## Inserting dataset from keras"
   ]
  },
  {
   "cell_type": "code",
   "execution_count": 3,
   "id": "057b5f1a",
   "metadata": {},
   "outputs": [
    {
     "data": {
      "text/plain": [
       "['__add__',\n",
       " '__class__',\n",
       " '__class_getitem__',\n",
       " '__contains__',\n",
       " '__delattr__',\n",
       " '__dir__',\n",
       " '__doc__',\n",
       " '__eq__',\n",
       " '__format__',\n",
       " '__ge__',\n",
       " '__getattribute__',\n",
       " '__getitem__',\n",
       " '__getnewargs__',\n",
       " '__gt__',\n",
       " '__hash__',\n",
       " '__init__',\n",
       " '__init_subclass__',\n",
       " '__iter__',\n",
       " '__le__',\n",
       " '__len__',\n",
       " '__lt__',\n",
       " '__mul__',\n",
       " '__ne__',\n",
       " '__new__',\n",
       " '__reduce__',\n",
       " '__reduce_ex__',\n",
       " '__repr__',\n",
       " '__rmul__',\n",
       " '__setattr__',\n",
       " '__sizeof__',\n",
       " '__str__',\n",
       " '__subclasshook__',\n",
       " 'count',\n",
       " 'index']"
      ]
     },
     "execution_count": 3,
     "metadata": {},
     "output_type": "execute_result"
    }
   ],
   "source": [
    "from keras.datasets import cifar10\n",
    "ci=cifar10.load_data()\n",
    "dir(ci)"
   ]
  },
  {
   "cell_type": "code",
   "execution_count": 4,
   "id": "f0b963c3",
   "metadata": {},
   "outputs": [],
   "source": [
    "from sklearn.neighbors import KNeighborsClassifier"
   ]
  },
  {
   "cell_type": "code",
   "execution_count": 5,
   "id": "63260e72",
   "metadata": {},
   "outputs": [],
   "source": [
    "knn=KNeighborsClassifier(n_neighbors=7)"
   ]
  },
  {
   "cell_type": "code",
   "execution_count": 8,
   "id": "78b5a865",
   "metadata": {},
   "outputs": [
    {
     "data": {
      "text/plain": [
       "((50000, 32, 32, 3), (10000, 32, 32, 3))"
      ]
     },
     "execution_count": 8,
     "metadata": {},
     "output_type": "execute_result"
    }
   ],
   "source": [
    "(x_train, y_train), (x_test, y_test)= cifar10.load_data()\n",
    "x_train.shape,x_test.shape"
   ]
  },
  {
   "cell_type": "code",
   "execution_count": 9,
   "id": "0d15af5a",
   "metadata": {},
   "outputs": [],
   "source": [
    "# Normalization\n",
    "x_train = x_train/255.0\n",
    "x_test = x_test/255.0"
   ]
  },
  {
   "cell_type": "code",
   "execution_count": 11,
   "id": "b9b6926e",
   "metadata": {},
   "outputs": [],
   "source": [
    "#sklearn expects i/p to be 2d array-model.fit(x_train,y_train)=>reshape to 2d array\n",
    "nsamples, nx, ny, nrgb = x_train.shape\n",
    "x_train2 = x_train.reshape((nsamples,nx*ny*nrgb))"
   ]
  },
  {
   "cell_type": "code",
   "execution_count": 12,
   "id": "daa953da",
   "metadata": {},
   "outputs": [],
   "source": [
    "#so,eventually,model.predict() should also be a 2d input\n",
    "nsamples, nx, ny, nrgb = x_test.shape\n",
    "x_test2 = x_test.reshape((nsamples,nx*ny*nrgb))"
   ]
  },
  {
   "cell_type": "code",
   "execution_count": 13,
   "id": "8f6d009b",
   "metadata": {},
   "outputs": [
    {
     "name": "stderr",
     "output_type": "stream",
     "text": [
      "C:\\Users\\kunal\\anaconda3\\lib\\site-packages\\sklearn\\neighbors\\_classification.py:198: DataConversionWarning: A column-vector y was passed when a 1d array was expected. Please change the shape of y to (n_samples,), for example using ravel().\n",
      "  return self._fit(X, y)\n"
     ]
    },
    {
     "data": {
      "text/plain": [
       "KNeighborsClassifier(n_neighbors=7)"
      ]
     },
     "execution_count": 13,
     "metadata": {},
     "output_type": "execute_result"
    }
   ],
   "source": [
    "knn.fit(x_train2,y_train)"
   ]
  },
  {
   "cell_type": "code",
   "execution_count": 14,
   "id": "1cbb18f1",
   "metadata": {},
   "outputs": [
    {
     "data": {
      "text/plain": [
       "array([2, 8, 8, ..., 5, 6, 4], dtype=uint8)"
      ]
     },
     "execution_count": 14,
     "metadata": {},
     "output_type": "execute_result"
    }
   ],
   "source": [
    "y_pred_knn=knn.predict(x_test2)\n",
    "y_pred_knn"
   ]
  },
  {
   "cell_type": "code",
   "execution_count": 15,
   "id": "2bd5d7fb",
   "metadata": {},
   "outputs": [
    {
     "name": "stdout",
     "output_type": "stream",
     "text": [
      "              precision    recall  f1-score   support\n",
      "\n",
      "           0       0.52      0.40      0.45      1299\n",
      "           1       0.20      0.70      0.30       280\n",
      "           2       0.44      0.22      0.29      2013\n",
      "           3       0.20      0.28      0.23       707\n",
      "           4       0.52      0.23      0.32      2222\n",
      "           5       0.20      0.40      0.27       504\n",
      "           6       0.27      0.35      0.30       761\n",
      "           7       0.20      0.70      0.31       281\n",
      "           8       0.69      0.39      0.50      1749\n",
      "           9       0.14      0.73      0.23       184\n",
      "\n",
      "    accuracy                           0.34     10000\n",
      "   macro avg       0.34      0.44      0.32     10000\n",
      "weighted avg       0.45      0.34      0.35     10000\n",
      "\n"
     ]
    }
   ],
   "source": [
    "accuracy_score(y_pred_knn,y_test)\n",
    "print(classification_report(y_pred_knn,y_test))"
   ]
  },
  {
   "cell_type": "code",
   "execution_count": 17,
   "id": "1e9190b1",
   "metadata": {},
   "outputs": [
    {
     "data": {
      "text/plain": [
       "array([[518, 118, 110,  66,  60,  63,  22,  78, 112, 152],\n",
       "       [  7, 195,   2,   5,   0,   2,   1,   8,  10,  50],\n",
       "       [118, 124, 437, 243, 268, 225, 271, 185,  47,  95],\n",
       "       [ 12,  51,  50, 199,  33, 156,  56,  57,  34,  59],\n",
       "       [ 46, 173, 250, 214, 521, 201, 319, 294,  69, 135],\n",
       "       [  5,  32,  24, 102,  14, 204,  32,  60,  12,  19],\n",
       "       [ 30,  55,  65, 108,  44,  80, 265,  48,  14,  52],\n",
       "       [  5,   8,   7,  11,  11,  10,   1, 196,   7,  25],\n",
       "       [255, 223,  53,  51,  48,  53,  32,  68, 688, 278],\n",
       "       [  4,  21,   2,   1,   1,   6,   1,   6,   7, 135]], dtype=int64)"
      ]
     },
     "execution_count": 17,
     "metadata": {},
     "output_type": "execute_result"
    }
   ],
   "source": [
    "cm=confusion_matrix(y_pred_knn,y_test)\n",
    "cm"
   ]
  },
  {
   "cell_type": "code",
   "execution_count": 18,
   "id": "266bb24c",
   "metadata": {},
   "outputs": [
    {
     "data": {
      "text/plain": [
       "Text(69.0, 0.5, 'Truth')"
      ]
     },
     "execution_count": 18,
     "metadata": {},
     "output_type": "execute_result"
    },
    {
     "data": {
      "image/png": "[encoded data removed]",
      "text/plain": [
       "<Figure size 720x504 with 2 Axes>"
      ]
     },
     "metadata": {
      "needs_background": "light"
     },
     "output_type": "display_data"
    }
   ],
   "source": [
    "%matplotlib inline\n",
    "import matplotlib.pyplot as plt\n",
    "import seaborn as sn\n",
    "plt.figure(figsize=(10,7))\n",
    "sn.heatmap(cm, annot=True)\n",
    "plt.xlabel('Predicted')\n",
    "plt.ylabel('Truth')"
   ]
  },
  {
   "cell_type": "code",
   "execution_count": null,
   "id": "dd3f03a9",
   "metadata": {},
   "outputs": [],
   "source": []
  }
 ],
 "metadata": {
  "kernelspec": {
   "display_name": "Python 3 (ipykernel)",
   "language": "python",
   "name": "python3"
  },
  "language_info": {
   "codemirror_mode": {
    "name": "ipython",
    "version": 3
   },
   "file_extension": ".py",
   "mimetype": "text/x-python",
   "name": "python",
   "nbconvert_exporter": "python",
   "pygments_lexer": "ipython3",
   "version": "3.9.12"
  }
 },
 "nbformat": 4,
 "nbformat_minor": 5
}
